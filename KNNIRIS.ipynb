{
 "cells": [
  {
   "cell_type": "code",
   "execution_count": 6,
   "metadata": {},
   "outputs": [],
   "source": [
    "import numpy as np\n",
    "import pandas as pd\n",
    "import matplotlib.pyplot as plt\n",
    "import seaborn as sns"
   ]
  },
  {
   "cell_type": "code",
   "execution_count": 7,
   "metadata": {},
   "outputs": [],
   "source": [
    "url = \"https://archive.ics.uci.edu/ml/machine-learning-databases/iris/iris.data\""
   ]
  },
  {
   "cell_type": "code",
   "execution_count": 8,
   "metadata": {},
   "outputs": [],
   "source": [
    "# Assign colum names to the dataset\n",
    "names = ['sepal-length', 'sepal-width', 'petal-length', 'petal-width', 'Class']\n",
    "\n",
    "# Read dataset to pandas dataframe\n",
    "dataset = pd.read_csv(url, names=names)\n"
   ]
  },
  {
   "cell_type": "code",
   "execution_count": 9,
   "metadata": {},
   "outputs": [
    {
     "data": {
      "text/html": [
       "<div>\n",
       "<style scoped>\n",
       "    .dataframe tbody tr th:only-of-type {\n",
       "        vertical-align: middle;\n",
       "    }\n",
       "\n",
       "    .dataframe tbody tr th {\n",
       "        vertical-align: top;\n",
       "    }\n",
       "\n",
       "    .dataframe thead th {\n",
       "        text-align: right;\n",
       "    }\n",
       "</style>\n",
       "<table border=\"1\" class=\"dataframe\">\n",
       "  <thead>\n",
       "    <tr style=\"text-align: right;\">\n",
       "      <th></th>\n",
       "      <th>sepal-length</th>\n",
       "      <th>sepal-width</th>\n",
       "      <th>petal-length</th>\n",
       "      <th>petal-width</th>\n",
       "      <th>Class</th>\n",
       "    </tr>\n",
       "  </thead>\n",
       "  <tbody>\n",
       "    <tr>\n",
       "      <th>0</th>\n",
       "      <td>5.1</td>\n",
       "      <td>3.5</td>\n",
       "      <td>1.4</td>\n",
       "      <td>0.2</td>\n",
       "      <td>Iris-setosa</td>\n",
       "    </tr>\n",
       "    <tr>\n",
       "      <th>1</th>\n",
       "      <td>4.9</td>\n",
       "      <td>3.0</td>\n",
       "      <td>1.4</td>\n",
       "      <td>0.2</td>\n",
       "      <td>Iris-setosa</td>\n",
       "    </tr>\n",
       "    <tr>\n",
       "      <th>2</th>\n",
       "      <td>4.7</td>\n",
       "      <td>3.2</td>\n",
       "      <td>1.3</td>\n",
       "      <td>0.2</td>\n",
       "      <td>Iris-setosa</td>\n",
       "    </tr>\n",
       "    <tr>\n",
       "      <th>3</th>\n",
       "      <td>4.6</td>\n",
       "      <td>3.1</td>\n",
       "      <td>1.5</td>\n",
       "      <td>0.2</td>\n",
       "      <td>Iris-setosa</td>\n",
       "    </tr>\n",
       "    <tr>\n",
       "      <th>4</th>\n",
       "      <td>5.0</td>\n",
       "      <td>3.6</td>\n",
       "      <td>1.4</td>\n",
       "      <td>0.2</td>\n",
       "      <td>Iris-setosa</td>\n",
       "    </tr>\n",
       "  </tbody>\n",
       "</table>\n",
       "</div>"
      ],
      "text/plain": [
       "   sepal-length  sepal-width  petal-length  petal-width        Class\n",
       "0           5.1          3.5           1.4          0.2  Iris-setosa\n",
       "1           4.9          3.0           1.4          0.2  Iris-setosa\n",
       "2           4.7          3.2           1.3          0.2  Iris-setosa\n",
       "3           4.6          3.1           1.5          0.2  Iris-setosa\n",
       "4           5.0          3.6           1.4          0.2  Iris-setosa"
      ]
     },
     "execution_count": 9,
     "metadata": {},
     "output_type": "execute_result"
    }
   ],
   "source": [
    "dataset.head()\n"
   ]
  },
  {
   "cell_type": "code",
   "execution_count": 10,
   "metadata": {},
   "outputs": [],
   "source": [
    "X = dataset.iloc[:, :-1].values\n",
    "y = dataset.iloc[:, 4].values\n"
   ]
  },
  {
   "cell_type": "code",
   "execution_count": 11,
   "metadata": {},
   "outputs": [],
   "source": [
    "from sklearn.model_selection import train_test_split\n",
    "X_train, X_test, y_train, y_test = train_test_split(X, y, test_size=0.20)\n"
   ]
  },
  {
   "cell_type": "code",
   "execution_count": 12,
   "metadata": {},
   "outputs": [
    {
     "data": {
      "text/plain": [
       "(120, 4)"
      ]
     },
     "execution_count": 12,
     "metadata": {},
     "output_type": "execute_result"
    }
   ],
   "source": [
    "X_train.shape"
   ]
  },
  {
   "cell_type": "code",
   "execution_count": 13,
   "metadata": {},
   "outputs": [],
   "source": [
    "from sklearn.preprocessing import StandardScaler\n",
    "scaler = StandardScaler()\n",
    "scaler.fit(X_train)\n",
    "\n",
    "X_train = scaler.transform(X_train)\n",
    "X_test = scaler.transform(X_test)\n"
   ]
  },
  {
   "cell_type": "code",
   "execution_count": 14,
   "metadata": {},
   "outputs": [
    {
     "data": {
      "text/plain": [
       "array([[ 0.66323853,  0.29010569,  0.86320741,  1.42139758],\n",
       "       [-0.93344682,  1.0153699 , -1.36873219, -1.20272103],\n",
       "       [-1.05626878,  1.0153699 , -1.25427375, -0.80910324],\n",
       "       [ 0.66323853, -0.43515853,  0.2909152 ,  0.10933828],\n",
       "       [ 0.78606048, -0.19340379,  0.80597819,  1.02777979],\n",
       "       [-0.31933707, -0.19340379,  0.17645676,  0.10933828],\n",
       "       [-0.81062487,  1.0153699 , -1.31150297, -1.33392696],\n",
       "       [ 0.66323853, -0.91866801,  0.86320741,  0.89657386],\n",
       "       [-1.05626878,  0.29010569, -1.48319063, -1.33392696],\n",
       "       [-0.07369317, -0.91866801,  0.06199832, -0.02186766],\n",
       "       [-0.56498097,  0.77361516, -1.31150297, -1.0715151 ],\n",
       "       [-0.07369317,  2.22414359, -1.48319063, -1.33392696],\n",
       "       [-1.17909073,  0.04835095, -1.31150297, -1.46513289],\n",
       "       [ 0.54041658, -0.67691327,  0.74874897,  0.37175014],\n",
       "       [-0.44215902, -1.64393222,  0.0047691 , -0.15307359],\n",
       "       [ 0.78606048, -0.19340379,  1.14935351,  1.29019165],\n",
       "       [-0.56498097,  0.77361516, -1.19704453, -1.33392696],\n",
       "       [ 1.40017024,  0.29010569,  0.51983208,  0.24054421],\n",
       "       [-1.54755658,  0.77361516, -1.36873219, -1.20272103],\n",
       "       [ 0.78606048, -0.19340379,  0.97766585,  0.76536793],\n",
       "       [ 1.52299219, -0.19340379,  1.20658273,  1.15898572],\n",
       "       [ 1.03170439,  0.04835095,  0.51983208,  0.37175014],\n",
       "       [-0.44215902,  1.0153699 , -1.42596141, -1.33392696],\n",
       "       [-1.30191268,  0.77361516, -1.08258608, -1.33392696],\n",
       "       [ 1.03170439,  0.04835095,  1.03489507,  1.55260351],\n",
       "       [ 0.29477268, -0.19340379,  0.63429053,  0.76536793],\n",
       "       [-0.81062487,  2.46589833, -1.31150297, -1.46513289],\n",
       "       [ 0.04912878, -0.19340379,  0.74874897,  0.76536793],\n",
       "       [-1.42473463,  0.29010569, -1.25427375, -1.33392696],\n",
       "       [-1.05626878,  1.25712464, -1.36873219, -1.33392696],\n",
       "       [ 2.25992389, -0.19340379,  1.32104117,  1.42139758],\n",
       "       [ 0.41759463, -0.67691327,  0.57706131,  0.76536793],\n",
       "       [-1.17909073,  0.04835095, -1.31150297, -1.46513289],\n",
       "       [ 0.17195073, -0.19340379,  0.57706131,  0.76536793],\n",
       "       [-0.19651512, -1.16042274, -0.16691856, -0.28427952],\n",
       "       [ 0.90888243, -0.19340379,  0.34814442,  0.24054421],\n",
       "       [ 0.17195073,  0.77361516,  0.40537364,  0.50295607],\n",
       "       [ 1.27734829,  0.04835095,  0.74874897,  1.42139758],\n",
       "       [-1.30191268, -0.19340379, -1.36873219, -1.20272103],\n",
       "       [ 0.41759463,  0.77361516,  0.92043663,  1.42139758],\n",
       "       [-0.56498097,  1.98238886, -1.42596141, -1.0715151 ],\n",
       "       [-1.05626878,  1.0153699 , -1.42596141, -1.20272103],\n",
       "       [ 0.17195073, -0.43515853,  0.40537364,  0.37175014],\n",
       "       [ 1.15452634, -0.19340379,  0.97766585,  1.15898572],\n",
       "       [ 1.03170439,  0.53186042,  1.09212429,  1.68380944],\n",
       "       [-0.31933707, -0.67691327,  0.63429053,  1.02777979],\n",
       "       [-1.05626878,  0.53186042, -1.36873219, -1.33392696],\n",
       "       [-0.44215902, -1.64393222, -0.05246012, -0.28427952],\n",
       "       [-1.54755658,  0.29010569, -1.36873219, -1.33392696],\n",
       "       [-0.19651512, -0.43515853,  0.23368598,  0.10933828],\n",
       "       [-0.44215902, -1.40217748,  0.11922754,  0.10933828],\n",
       "       [-0.81062487, -0.91866801,  0.06199832,  0.24054421],\n",
       "       [-0.93344682,  0.53186042, -1.19704453, -0.94030917],\n",
       "       [-0.31933707, -0.43515853, -0.10968934,  0.10933828],\n",
       "       [-1.05626878, -1.88568696, -0.281377  , -0.28427952],\n",
       "       [ 0.41759463, -0.43515853,  0.2909152 ,  0.10933828],\n",
       "       [-0.31933707, -1.40217748,  0.06199832, -0.15307359],\n",
       "       [ 1.03170439,  0.53186042,  1.09212429,  1.15898572],\n",
       "       [ 0.54041658, -1.88568696,  0.34814442,  0.10933828],\n",
       "       [ 0.54041658,  0.53186042,  0.51983208,  0.50295607],\n",
       "       [-1.79320048, -0.19340379, -1.42596141, -1.33392696],\n",
       "       [-0.19651512, -1.40217748,  0.69151975,  1.02777979],\n",
       "       [ 0.66323853,  0.04835095,  0.97766585,  0.76536793],\n",
       "       [-1.17909073, -1.40217748,  0.40537364,  0.634162  ],\n",
       "       [-0.44215902, -1.88568696,  0.11922754,  0.10933828],\n",
       "       [ 0.54041658, -0.43515853,  1.03489507,  0.76536793],\n",
       "       [ 0.29477268, -0.67691327,  0.51983208, -0.02186766],\n",
       "       [ 0.04912878, -0.19340379,  0.23368598,  0.37175014],\n",
       "       [-0.19651512,  3.19116255, -1.31150297, -1.0715151 ],\n",
       "       [ 1.15452634, -0.67691327,  0.57706131,  0.24054421],\n",
       "       [-0.81062487,  0.77361516, -1.36873219, -1.33392696],\n",
       "       [-1.17909073, -0.19340379, -1.36873219, -1.33392696],\n",
       "       [-1.30191268,  0.04835095, -1.25427375, -1.33392696],\n",
       "       [-1.17909073,  0.04835095, -1.31150297, -1.46513289],\n",
       "       [ 1.27734829,  0.04835095,  0.63429053,  0.37175014],\n",
       "       [ 0.66323853, -0.67691327,  1.03489507,  1.29019165],\n",
       "       [ 0.04912878,  0.29010569,  0.57706131,  0.76536793],\n",
       "       [ 2.50556779,  1.74063412,  1.49272883,  1.02777979],\n",
       "       [ 0.29477268, -0.19340379,  0.46260286,  0.24054421],\n",
       "       [-0.19651512, -0.19340379,  0.23368598, -0.02186766],\n",
       "       [ 0.54041658,  0.53186042,  1.26381195,  1.68380944],\n",
       "       [-1.05626878,  0.77361516, -1.31150297, -1.33392696],\n",
       "       [-0.93344682,  0.77361516, -1.31150297, -1.33392696],\n",
       "       [ 1.27734829,  0.04835095,  0.92043663,  1.15898572],\n",
       "       [-0.56498097, -0.19340379,  0.40537364,  0.37175014],\n",
       "       [ 1.64581414,  0.29010569,  1.26381195,  0.76536793],\n",
       "       [-0.07369317, -0.91866801,  0.17645676, -0.28427952],\n",
       "       [-1.17909073, -1.64393222, -0.281377  , -0.28427952],\n",
       "       [-0.19651512, -0.67691327,  0.40537364,  0.10933828],\n",
       "       [-0.31933707, -0.19340379,  0.40537364,  0.37175014],\n",
       "       [ 0.54041658, -1.40217748,  0.63429053,  0.37175014],\n",
       "       [ 2.25992389, -1.16042274,  1.77887493,  1.42139758],\n",
       "       [ 1.03170439, -1.40217748,  1.14935351,  0.76536793],\n",
       "       [ 0.54041658, -1.40217748,  0.69151975,  0.89657386],\n",
       "       [-1.42473463,  0.29010569, -1.42596141, -1.33392696],\n",
       "       [ 0.17195073, -0.91866801,  0.74874897,  0.50295607],\n",
       "       [-0.93344682, -1.40217748, -0.45306466, -0.15307359],\n",
       "       [-0.93344682,  1.0153699 , -1.36873219, -1.33392696],\n",
       "       [-1.79320048,  0.29010569, -1.42596141, -1.33392696],\n",
       "       [ 1.64581414, -0.19340379,  1.14935351,  0.50295607],\n",
       "       [ 1.76863609, -0.43515853,  1.43549961,  0.76536793],\n",
       "       [ 1.15452634,  0.29010569,  1.20658273,  1.42139758],\n",
       "       [ 0.54041658, -0.91866801,  0.63429053,  0.76536793],\n",
       "       [ 2.13710194, -0.19340379,  1.60718727,  1.15898572],\n",
       "       [-0.44215902, -1.16042274,  0.34814442, -0.02186766],\n",
       "       [-0.93344682,  1.74063412, -1.25427375, -1.33392696],\n",
       "       [ 0.29477268, -0.67691327,  0.11922754,  0.10933828],\n",
       "       [-0.68780292,  1.49887938, -1.31150297, -1.33392696],\n",
       "       [-1.54755658,  0.04835095, -1.31150297, -1.33392696],\n",
       "       [-0.44215902,  2.70765307, -1.36873219, -1.33392696],\n",
       "       [-0.93344682,  1.74063412, -1.08258608, -1.0715151 ],\n",
       "       [-1.30191268,  0.77361516, -1.25427375, -1.33392696],\n",
       "       [-0.07369317, -0.91866801,  0.74874897,  0.89657386],\n",
       "       [ 0.66323853, -0.67691327,  1.03489507,  1.15898572],\n",
       "       [ 0.90888243, -0.43515853,  0.46260286,  0.10933828],\n",
       "       [-0.07369317, -0.67691327,  0.74874897,  1.55260351],\n",
       "       [ 1.03170439,  0.04835095,  0.34814442,  0.24054421],\n",
       "       [ 1.64581414,  1.25712464,  1.32104117,  1.68380944],\n",
       "       [-0.56498097,  1.98238886, -1.19704453, -1.0715151 ],\n",
       "       [ 2.25992389,  1.74063412,  1.66441649,  1.29019165]])"
      ]
     },
     "execution_count": 14,
     "metadata": {},
     "output_type": "execute_result"
    }
   ],
   "source": [
    "X_train"
   ]
  },
  {
   "cell_type": "code",
   "execution_count": 20,
   "metadata": {},
   "outputs": [
    {
     "data": {
      "text/plain": [
       "KNeighborsClassifier()"
      ]
     },
     "execution_count": 20,
     "metadata": {},
     "output_type": "execute_result"
    }
   ],
   "source": [
    "from sklearn.neighbors import KNeighborsClassifier\n",
    "classifier = KNeighborsClassifier(n_neighbors=5)\n",
    "classifier.fit(X_train, y_train)\n"
   ]
  },
  {
   "cell_type": "code",
   "execution_count": 9,
   "metadata": {},
   "outputs": [],
   "source": [
    "y_pred = classifier.predict(X_test)\n"
   ]
  },
  {
   "cell_type": "code",
   "execution_count": 10,
   "metadata": {},
   "outputs": [
    {
     "name": "stdout",
     "output_type": "stream",
     "text": [
      "[[9 0 0]\n",
      " [0 8 1]\n",
      " [0 4 8]]\n",
      "                 precision    recall  f1-score   support\n",
      "\n",
      "    Iris-setosa       1.00      1.00      1.00         9\n",
      "Iris-versicolor       0.67      0.89      0.76         9\n",
      " Iris-virginica       0.89      0.67      0.76        12\n",
      "\n",
      "       accuracy                           0.83        30\n",
      "      macro avg       0.85      0.85      0.84        30\n",
      "   weighted avg       0.86      0.83      0.83        30\n",
      "\n"
     ]
    }
   ],
   "source": [
    "from sklearn.metrics import classification_report, confusion_matrix\n",
    "print(confusion_matrix(y_test, y_pred))\n",
    "print(classification_report(y_test, y_pred))\n"
   ]
  },
  {
   "cell_type": "code",
   "execution_count": 11,
   "metadata": {},
   "outputs": [],
   "source": [
    "error = []\n",
    "\n",
    "# Calculating error for K values between 1 and 40\n",
    "for i in range(1, 40):\n",
    "    knn = KNeighborsClassifier(n_neighbors=i)\n",
    "    knn.fit(X_train, y_train)\n",
    "    pred_i = knn.predict(X_test)\n",
    "    error.append(np.mean(pred_i != y_test))\n"
   ]
  },
  {
   "cell_type": "code",
   "execution_count": 12,
   "metadata": {},
   "outputs": [
    {
     "data": {
      "text/plain": [
       "Text(0, 0.5, 'Mean Error')"
      ]
     },
     "execution_count": 12,
     "metadata": {},
     "output_type": "execute_result"
    },
    {
     "data": {
      "image/png": "[encoded data removed]",
      "text/plain": [
       "<Figure size 864x432 with 1 Axes>"
      ]
     },
     "metadata": {
      "needs_background": "light"
     },
     "output_type": "display_data"
    }
   ],
   "source": [
    "plt.figure(figsize=(12, 6))\n",
    "plt.plot(range(1, 40), error, color='red', linestyle='dashed', marker='o',\n",
    "         markerfacecolor='blue', markersize=10)\n",
    "plt.title('Error Rate K Value')\n",
    "plt.xlabel('K Value')\n",
    "plt.ylabel('Mean Error')\n"
   ]
  },
  {
   "cell_type": "code",
   "execution_count": null,
   "metadata": {},
   "outputs": [],
   "source": []
  }
 ],
 "metadata": {
  "kernelspec": {
   "display_name": "Python 3",
   "language": "python",
   "name": "python3"
  },
  "language_info": {
   "codemirror_mode": {
    "name": "ipython",
    "version": 3
   },
   "file_extension": ".py",
   "mimetype": "text/x-python",
   "name": "python",
   "nbconvert_exporter": "python",
   "pygments_lexer": "ipython3",
   "version": "3.8.8"
  }
 },
 "nbformat": 4,
 "nbformat_minor": 4
}
